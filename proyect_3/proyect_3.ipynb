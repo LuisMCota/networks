{
 "cells": [
  {
   "cell_type": "markdown",
   "metadata": {},
   "source": [
    "# Red de Géneros Musicales\n",
    "\n",
    "Para crear una red donde los nodos representen géneros musicales y las aristas representen artistas que pertenecen a múltiples géneros, seguiremos estos pasos:\n",
    "\n",
    "Obtener los géneros de los artistas.\n",
    "Construir una red donde los nodos sean géneros.\n",
    "Crear aristas entre géneros si un artista pertenece a múltiples géneros."
   ]
  },
  {
   "cell_type": "code",
   "execution_count": 1,
   "metadata": {},
   "outputs": [],
   "source": [
    "import spotipy\n",
    "from spotipy.oauth2 import SpotifyOAuth\n",
    "import pandas as pd\n",
    "import networkx as nx\n",
    "import matplotlib.pyplot as plt\n",
    "import random\n",
    "from sklearn.metrics import precision_score, recall_score"
   ]
  },
  {
   "cell_type": "code",
   "execution_count": 2,
   "metadata": {},
   "outputs": [],
   "source": [
    "# Configura tus credenciales de la API de Spotify\n",
    "client_id = 'ea3f14cac2274f8aa7a071614d8f29af'\n",
    "client_secret = '61ee483d5d5f472daf9cd19938532935'\n",
    "redirect_uri = 'http://localhost:8888/callback'"
   ]
  },
  {
   "cell_type": "code",
   "execution_count": 3,
   "metadata": {},
   "outputs": [],
   "source": [
    "# Autenticación en la API de Spotify\n",
    "sp = spotipy.Spotify(auth_manager=SpotifyOAuth(client_id=client_id, client_secret=client_secret, redirect_uri=redirect_uri,scope=\"user-library-read user-read-private\"))"
   ]
  },
  {
   "cell_type": "code",
   "execution_count": 4,
   "metadata": {},
   "outputs": [],
   "source": [
    "# Función para obtener todas las listas de reproducción del usuario\n",
    "def get_all_playlists():\n",
    "    playlists = []\n",
    "    results = sp.current_user_playlists()\n",
    "    playlists.extend(results['items'])\n",
    "    while results['next']:\n",
    "        results = sp.next(results)\n",
    "        playlists.extend(results['items'])\n",
    "    return playlists\n",
    "\n",
    "# Función para obtener géneros de los artistas en lotes\n",
    "def get_genres_for_artists(artist_ids):\n",
    "    artist_genres = []\n",
    "    for i in range(0, len(artist_ids), 50):\n",
    "        batch = artist_ids[i:i+50]\n",
    "        artists = sp.artists(batch)\n",
    "        artist_genres.extend(artists['artists'])\n",
    "    return artist_genres\n",
    "\n",
    "# Función para obtener todos los pares de nodos no adyacentes\n",
    "def non_adjacent_pairs(G):\n",
    "    pairs = []\n",
    "    for node in G.nodes():\n",
    "        for potential_neighbor in G.nodes():\n",
    "            if node != potential_neighbor and not G.has_edge(node, potential_neighbor):\n",
    "                pairs.append((node, potential_neighbor))\n",
    "    return pairs\n",
    "\n",
    "def top_n_predictions(predictions, n=10):\n",
    "    sorted_predictions = sorted(predictions, key=lambda x: x[2], reverse=True)\n",
    "    return sorted_predictions[:n]"
   ]
  },
  {
   "cell_type": "code",
   "execution_count": 5,
   "metadata": {},
   "outputs": [
    {
     "data": {
      "text/html": [
       "<div>\n",
       "<style scoped>\n",
       "    .dataframe tbody tr th:only-of-type {\n",
       "        vertical-align: middle;\n",
       "    }\n",
       "\n",
       "    .dataframe tbody tr th {\n",
       "        vertical-align: top;\n",
       "    }\n",
       "\n",
       "    .dataframe thead th {\n",
       "        text-align: right;\n",
       "    }\n",
       "</style>\n",
       "<table border=\"1\" class=\"dataframe\">\n",
       "  <thead>\n",
       "    <tr style=\"text-align: right;\">\n",
       "      <th></th>\n",
       "      <th>track.name</th>\n",
       "      <th>track.artists</th>\n",
       "      <th>track.album.name</th>\n",
       "      <th>track.popularity</th>\n",
       "      <th>track.duration_ms</th>\n",
       "    </tr>\n",
       "  </thead>\n",
       "  <tbody>\n",
       "    <tr>\n",
       "      <th>0</th>\n",
       "      <td>Hoy El Aire Huele a Ti</td>\n",
       "      <td>[{'name': 'Luis Miguel', 'id': '2nszmSgqreHSdJ...</td>\n",
       "      <td>20 Años</td>\n",
       "      <td>63</td>\n",
       "      <td>224493</td>\n",
       "    </tr>\n",
       "    <tr>\n",
       "      <th>1</th>\n",
       "      <td>Cómo duele</td>\n",
       "      <td>[{'name': 'Luis Miguel', 'id': '2nszmSgqreHSdJ...</td>\n",
       "      <td>Mis Romances</td>\n",
       "      <td>61</td>\n",
       "      <td>233973</td>\n",
       "    </tr>\n",
       "    <tr>\n",
       "      <th>2</th>\n",
       "      <td>Oro De Ley</td>\n",
       "      <td>[{'name': 'Luis Miguel', 'id': '2nszmSgqreHSdJ...</td>\n",
       "      <td>20 Años</td>\n",
       "      <td>65</td>\n",
       "      <td>238933</td>\n",
       "    </tr>\n",
       "    <tr>\n",
       "      <th>3</th>\n",
       "      <td>Todo Y Nada</td>\n",
       "      <td>[{'name': 'Luis Miguel', 'id': '2nszmSgqreHSdJ...</td>\n",
       "      <td>Segundo Romance</td>\n",
       "      <td>66</td>\n",
       "      <td>219400</td>\n",
       "    </tr>\n",
       "    <tr>\n",
       "      <th>4</th>\n",
       "      <td>Tú sólo tú</td>\n",
       "      <td>[{'name': 'Luis Miguel', 'id': '2nszmSgqreHSdJ...</td>\n",
       "      <td>Amarte Es Un Placer</td>\n",
       "      <td>53</td>\n",
       "      <td>259240</td>\n",
       "    </tr>\n",
       "  </tbody>\n",
       "</table>\n",
       "</div>"
      ],
      "text/plain": [
       "               track.name                                      track.artists  \\\n",
       "0  Hoy El Aire Huele a Ti  [{'name': 'Luis Miguel', 'id': '2nszmSgqreHSdJ...   \n",
       "1              Cómo duele  [{'name': 'Luis Miguel', 'id': '2nszmSgqreHSdJ...   \n",
       "2              Oro De Ley  [{'name': 'Luis Miguel', 'id': '2nszmSgqreHSdJ...   \n",
       "3             Todo Y Nada  [{'name': 'Luis Miguel', 'id': '2nszmSgqreHSdJ...   \n",
       "4              Tú sólo tú  [{'name': 'Luis Miguel', 'id': '2nszmSgqreHSdJ...   \n",
       "\n",
       "      track.album.name  track.popularity  track.duration_ms  \n",
       "0              20 Años                63             224493  \n",
       "1         Mis Romances                61             233973  \n",
       "2              20 Años                65             238933  \n",
       "3      Segundo Romance                66             219400  \n",
       "4  Amarte Es Un Placer                53             259240  "
      ]
     },
     "execution_count": 5,
     "metadata": {},
     "output_type": "execute_result"
    }
   ],
   "source": [
    "# Obtener todas las listas de reproducción del usuario\n",
    "playlists = get_all_playlists()\n",
    "\n",
    "# Crear un DataFrame para almacenar las pistas\n",
    "tracks_data = []\n",
    "\n",
    "# Obtener todas las pistas de todas las listas de reproducción\n",
    "for playlist in playlists:\n",
    "    playlist_id = playlist['id']\n",
    "    results = sp.playlist_tracks(playlist_id)\n",
    "    tracks_data.extend(results['items'])\n",
    "    while results['next']:\n",
    "        results = sp.next(results)\n",
    "        tracks_data.extend(results['items'])\n",
    "\n",
    "# Campos específicos que necesitas\n",
    "fields = [\n",
    "    'track.name',\n",
    "    'track.artists',\n",
    "    'track.album.name',\n",
    "    'track.popularity',\n",
    "    'track.duration_ms'\n",
    "]\n",
    "\n",
    "# Normalizar los datos JSON especificando solo los campos necesarios\n",
    "tracks_df = pd.json_normalize(tracks_data)[fields]\n",
    "\n",
    "# Expandir la columna de artistas para obtener los nombres y IDs\n",
    "tracks_df['track.artists'] = tracks_df['track.artists'].apply(lambda x: [{'name': artist['name'], 'id': artist['id']} for artist in x])\n",
    "\n",
    "# Verificar el DataFrame\n",
    "tracks_df.head()"
   ]
  },
  {
   "cell_type": "code",
   "execution_count": 7,
   "metadata": {},
   "outputs": [],
   "source": [
    "# Obtener los IDs únicos de los artistas\n",
    "artist_ids = tracks_df['track.artists'].explode().apply(lambda x: x['id'] if isinstance(x, dict) else None).dropna().unique()\n",
    "\n",
    "# Obtener géneros para todos los artistas\n",
    "artist_genres = get_genres_for_artists(artist_ids)\n",
    "\n",
    "# Crear un DataFrame con los géneros de los artistas\n",
    "genres_df = pd.json_normalize(artist_genres)\n",
    "\n",
    "# Verificar el DataFrame para asegurarse de que contiene la columna 'genres'\n",
    "print(genres_df.columns)\n",
    "\n",
    "# Expandir los géneros en filas separadas\n",
    "if 'genres' in genres_df.columns:\n",
    "    genres_exploded = genres_df.explode('genres')\n",
    "else:\n",
    "    raise KeyError(\"La columna 'genres' no se encuentra en el DataFrame\")\n",
    "\n",
    "# Crear un mapa de géneros a artistas\n",
    "genre_artist_map = genres_exploded.groupby('genres')['name'].apply(set).to_dict()\n",
    "\n",
    "# Verificar el mapa de géneros a artistas\n",
    "genre_artist_map"
   ]
  },
  {
   "cell_type": "code",
   "execution_count": null,
   "metadata": {},
   "outputs": [],
   "source": [
    "# Crear una lista de conexiones entre géneros basadas en artistas comunes\n",
    "genre_edges = []\n",
    "for genre1, artists1 in genre_artist_map.items():\n",
    "    for genre2, artists2 in genre_artist_map.items():\n",
    "        if genre1 != genre2:\n",
    "            common_artists = artists1.intersection(artists2)\n",
    "            if common_artists:\n",
    "                genre_edges.append((genre1, genre2))\n",
    "\n",
    "# Crear un DataFrame con las conexiones entre géneros\n",
    "genre_df = pd.DataFrame(genre_edges, columns=['Genre1', 'Genre2'])"
   ]
  },
  {
   "cell_type": "markdown",
   "metadata": {},
   "source": [
    "## ¿Qué Representa la Red?\n",
    "Nodos: Géneros musicales.\n",
    "Aristas: Conexiones entre géneros basadas en artistas comunes. Si dos géneros están conectados por una arista, significa que hay al menos un artista que pertenece a ambos géneros."
   ]
  },
  {
   "cell_type": "code",
   "execution_count": null,
   "metadata": {},
   "outputs": [
    {
     "ename": "NameError",
     "evalue": "name 'genre_df' is not defined",
     "output_type": "error",
     "traceback": [
      "\u001b[1;31m---------------------------------------------------------------------------\u001b[0m",
      "\u001b[1;31mNameError\u001b[0m                                 Traceback (most recent call last)",
      "Cell \u001b[1;32mIn[10], line 5\u001b[0m\n\u001b[0;32m      2\u001b[0m G \u001b[38;5;241m=\u001b[39m nx\u001b[38;5;241m.\u001b[39mGraph()\n\u001b[0;32m      4\u001b[0m \u001b[38;5;66;03m# Añadir nodos y aristas al grafo basados en las conexiones entre géneros\u001b[39;00m\n\u001b[1;32m----> 5\u001b[0m \u001b[38;5;28;01mfor\u001b[39;00m _, row \u001b[38;5;129;01min\u001b[39;00m \u001b[43mgenre_df\u001b[49m\u001b[38;5;241m.\u001b[39miterrows():\n\u001b[0;32m      6\u001b[0m     G\u001b[38;5;241m.\u001b[39madd_node(row[\u001b[38;5;124m'\u001b[39m\u001b[38;5;124mGenre1\u001b[39m\u001b[38;5;124m'\u001b[39m])\n\u001b[0;32m      7\u001b[0m     G\u001b[38;5;241m.\u001b[39madd_node(row[\u001b[38;5;124m'\u001b[39m\u001b[38;5;124mGenre2\u001b[39m\u001b[38;5;124m'\u001b[39m])\n",
      "\u001b[1;31mNameError\u001b[0m: name 'genre_df' is not defined"
     ]
    }
   ],
   "source": [
    "# Crear un grafo vacío\n",
    "G = nx.Graph()\n",
    "\n",
    "# Añadir nodos y aristas al grafo basados en las conexiones entre géneros\n",
    "for _, row in genre_df.iterrows():\n",
    "    G.add_node(row['Genre1'])\n",
    "    G.add_node(row['Genre2'])\n",
    "    G.add_edge(row['Genre1'], row['Genre2'])\n",
    "\n",
    "# Dibujar el grafo\n",
    "plt.figure(figsize=(12, 12))\n",
    "nx.draw(G, with_labels=True, node_size=50, node_color='blue', font_size=8, edge_color='gray')\n",
    "plt.title('Red de Géneros Musicales Basada en Artistas Comunes')\n",
    "plt.show()"
   ]
  },
  {
   "cell_type": "markdown",
   "metadata": {},
   "source": [
    "Esta red te permite visualizar cómo están relacionados los géneros musicales en función de los artistas que escuchas en tus listas de reproducción. Es una forma interesante de ver las intersecciones entre diferentes géneros y cómo tu preferencia musical se extiende a través de estos géneros."
   ]
  },
  {
   "cell_type": "code",
   "execution_count": null,
   "metadata": {},
   "outputs": [],
   "source": [
    "# Identificar y crear el subgrafo con los nodos principales (mayor componente conexa)\n",
    "largest_cc = max(nx.connected_components(G), key=len)\n",
    "G = G.subgraph(largest_cc).copy()\n",
    "\n",
    "# Dibujar el grafo\n",
    "plt.figure(figsize=(12, 12))\n",
    "nx.draw(G, with_labels=True, node_size=50, node_color='blue', font_size=8, edge_color='gray')\n",
    "plt.title('Red de Géneros Musicales Basada en Artistas Comunes')\n",
    "plt.show()"
   ]
  },
  {
   "cell_type": "markdown",
   "metadata": {},
   "source": [
    "Este código garantiza que el grafo G contiene solo la mayor componente conexa, eliminando los nodos periféricos, y procede con el análisis y la visualización de esta red centralizada."
   ]
  },
  {
   "cell_type": "markdown",
   "metadata": {},
   "source": [
    "## Análisis Básicos\n",
    "### 1. Número de Nodos y Aristas"
   ]
  },
  {
   "cell_type": "code",
   "execution_count": null,
   "metadata": {},
   "outputs": [],
   "source": [
    "num_nodes = G.number_of_nodes()\n",
    "num_edges = G.number_of_edges()\n",
    "print(f\"Número de géneros (nodos): {num_nodes}\")\n",
    "print(f\"Número de conexiones (aristas): {num_edges}\")"
   ]
  },
  {
   "cell_type": "code",
   "execution_count": null,
   "metadata": {},
   "outputs": [],
   "source": [
    "# Análisis Adicional - Características Básicas de la Red\n",
    "density = nx.density(G)\n",
    "print(f\"Densidad de la Red: {density}\")"
   ]
  },
  {
   "cell_type": "markdown",
   "metadata": {},
   "source": [
    "### 2. Grado de los Nodos"
   ]
  },
  {
   "cell_type": "code",
   "execution_count": null,
   "metadata": {},
   "outputs": [],
   "source": [
    "degrees = dict(G.degree())\n",
    "sorted_degrees = sorted(degrees.items(), key=lambda item: item[1], reverse=True)\n",
    "\n",
    "# Top 10 géneros con mayor grado\n",
    "top_10_genres = sorted_degrees[:10]\n",
    "print(\"\\nTop 10 géneros con mayor grado:\")\n",
    "for genre, degree in top_10_genres:\n",
    "    print(f\"{genre}: {degree}\")"
   ]
  },
  {
   "cell_type": "markdown",
   "metadata": {},
   "source": [
    "### 3. Distribución de Grados"
   ]
  },
  {
   "cell_type": "code",
   "execution_count": null,
   "metadata": {},
   "outputs": [],
   "source": [
    "plt.figure(figsize=(10, 6))\n",
    "plt.hist(list(degrees.values()), bins=range(1, max(degrees.values()) + 1), edgecolor='black')\n",
    "plt.title(\"Distribución de Grados\")\n",
    "plt.xlabel(\"Grado\")\n",
    "plt.ylabel(\"Número de Géneros\")\n",
    "plt.show()"
   ]
  },
  {
   "cell_type": "markdown",
   "metadata": {},
   "source": [
    "### 4. Componentes Conexas"
   ]
  },
  {
   "cell_type": "code",
   "execution_count": null,
   "metadata": {},
   "outputs": [],
   "source": [
    "connected_components = list(nx.connected_components(G))\n",
    "num_components = len(connected_components)\n",
    "print(f\"Número de componentes conexas: {num_components}\")\n",
    "print(\"Componentes conexas:\")\n",
    "for i, component in enumerate(connected_components):\n",
    "    print(f\"Componente {i + 1}: {component}\")"
   ]
  },
  {
   "cell_type": "code",
   "execution_count": null,
   "metadata": {},
   "outputs": [],
   "source": [
    "largest_cc = max(nx.connected_components(G), key=len)\n",
    "print(f\"Tamaño de la mayor componente conexa: {len(largest_cc)}\")"
   ]
  },
  {
   "cell_type": "markdown",
   "metadata": {},
   "source": [
    "## Análisis Adicional\n",
    "### Centralidad de Grado"
   ]
  },
  {
   "cell_type": "code",
   "execution_count": null,
   "metadata": {},
   "outputs": [],
   "source": [
    "degree_centrality = nx.degree_centrality(G)\n",
    "sorted_degree_centrality = sorted(degree_centrality.items(), key=lambda item: item[1], reverse=True)\n",
    "print(\"\\nTop 10 géneros por centralidad de grado:\")\n",
    "for genre, centrality in sorted_degree_centrality[:10]:\n",
    "    print(f\"{genre}: {centrality}\")"
   ]
  },
  {
   "cell_type": "markdown",
   "metadata": {},
   "source": [
    "### Centralidad de Cercanía"
   ]
  },
  {
   "cell_type": "code",
   "execution_count": null,
   "metadata": {},
   "outputs": [],
   "source": [
    "closeness_centrality = nx.closeness_centrality(G)\n",
    "sorted_closeness_centrality = sorted(closeness_centrality.items(), key=lambda item: item[1], reverse=True)\n",
    "print(\"\\nTop 10 géneros por centralidad de cercanía:\")\n",
    "for genre, centrality in sorted_closeness_centrality[:10]:\n",
    "    print(f\"{genre}: {centrality}\")"
   ]
  },
  {
   "cell_type": "markdown",
   "metadata": {},
   "source": [
    "### Centralidad de Intermediación"
   ]
  },
  {
   "cell_type": "code",
   "execution_count": null,
   "metadata": {},
   "outputs": [],
   "source": [
    "betweenness_centrality = nx.betweenness_centrality(G)\n",
    "sorted_betweenness_centrality = sorted(betweenness_centrality.items(), key=lambda item: item[1], reverse=True)\n",
    "print(\"\\nTop 10 géneros por centralidad de intermediación:\")\n",
    "for genre, centrality in sorted_betweenness_centrality[:10]:\n",
    "    print(f\"{genre}: {centrality}\")"
   ]
  },
  {
   "cell_type": "markdown",
   "metadata": {},
   "source": [
    "### Coeficiente de Agrupamiento"
   ]
  },
  {
   "cell_type": "code",
   "execution_count": null,
   "metadata": {},
   "outputs": [],
   "source": [
    "# Coeficiente de Agrupamiento\n",
    "clustering_coefficient = nx.clustering(G)\n",
    "sorted_clustering_coefficient = sorted(clustering_coefficient.items(), key=lambda item: item[1], reverse=True)\n",
    "print(\"\\nTop 10 géneros por coeficiente de agrupamiento:\")\n",
    "for genre, coefficient in sorted_clustering_coefficient[:10]:\n",
    "    print(f\"{genre}: {coefficient}\")"
   ]
  },
  {
   "cell_type": "code",
   "execution_count": null,
   "metadata": {},
   "outputs": [],
   "source": [
    "# Dibujar el grafo\n",
    "plt.figure(figsize=(12, 12))\n",
    "\n",
    "# Colores de los nodos según su grado (número de conexiones)\n",
    "node_colors = ['red' if genre in dict(top_10_genres) else 'blue' for genre in G.nodes()]\n",
    "\n",
    "# Tamaños de los nodos según su grado (número de conexiones)\n",
    "node_sizes = [degrees[genre] * 20 for genre in G.nodes()]\n",
    "\n",
    "# Dibujar los nodos y las aristas\n",
    "pos = nx.spring_layout(G)\n",
    "nx.draw_networkx_nodes(G, pos, node_color=node_colors, node_size=node_sizes)\n",
    "nx.draw_networkx_edges(G, pos, edge_color='gray')\n",
    "nx.draw_networkx_labels(G, pos, font_size=8, font_color='black')\n",
    "\n",
    "plt.title('Red de Géneros Musicales Basada en Artistas Comunes\\n(Nodos más activos en rojo)')\n",
    "plt.show()"
   ]
  },
  {
   "cell_type": "markdown",
   "metadata": {},
   "source": [
    "## Análisis de Predicción de Enlaces\n",
    "Utilizaremos algunas de las métricas comunes para la predicción de enlaces, como:"
   ]
  },
  {
   "cell_type": "code",
   "execution_count": null,
   "metadata": {},
   "outputs": [],
   "source": [
    "# Obtener los pares de nodos no adyacentes\n",
    "non_adjacent = non_adjacent_pairs(G)\n",
    "\n",
    "# Calcular Common Neighbors\n",
    "common_neighbors = [(u, v, len(list(nx.common_neighbors(G, u, v)))) for u, v in non_adjacent]\n",
    "\n",
    "# Calcular Jaccard Coefficient\n",
    "jaccard_coefficient = list(nx.jaccard_coefficient(G, non_adjacent))\n",
    "\n",
    "# Calcular Resource Allocation Index\n",
    "resource_allocation_index = list(nx.resource_allocation_index(G, non_adjacent))\n",
    "\n",
    "# Calcular Preferential Attachment\n",
    "preferential_attachment = list(nx.preferential_attachment(G, non_adjacent))"
   ]
  },
  {
   "cell_type": "markdown",
   "metadata": {},
   "source": [
    "### Common Neighbors:\n",
    "Dos nodos tienen una mayor probabilidad de formar un enlace si comparten muchos vecinos comunes."
   ]
  },
  {
   "cell_type": "code",
   "execution_count": null,
   "metadata": {},
   "outputs": [],
   "source": [
    "print(\"Top 10 predicciones de enlaces más probables basadas en Common Neighbors:\")\n",
    "for u, v, p in top_n_predictions(common_neighbors):\n",
    "    print(f\"{u} - {v}: {p}\")"
   ]
  },
  {
   "cell_type": "markdown",
   "metadata": {},
   "source": [
    "### Jaccard Coefficient: \n",
    "Mide la similitud entre dos nodos basada en sus vecinos."
   ]
  },
  {
   "cell_type": "code",
   "execution_count": null,
   "metadata": {},
   "outputs": [],
   "source": [
    "print(\"\\nTop 10 predicciones de enlaces más probables basadas en Jaccard Coefficient:\")\n",
    "for u, v, p in top_n_predictions(jaccard_coefficient):\n",
    "    print(f\"{u} - {v}: {p}\")"
   ]
  },
  {
   "cell_type": "markdown",
   "metadata": {},
   "source": [
    "### Resource Allocation Index: \n",
    "Asigna puntuaciones a pares de nodos basadas en la cantidad de recursos compartidos por sus vecinos comunes."
   ]
  },
  {
   "cell_type": "code",
   "execution_count": null,
   "metadata": {},
   "outputs": [],
   "source": [
    "\n",
    "print(\"\\nTop 10 predicciones de enlaces más probables basadas en Resource Allocation Index:\")\n",
    "for u, v, p in top_n_predictions(resource_allocation_index):\n",
    "    print(f\"{u} - {v}: {p}\")\n"
   ]
  },
  {
   "cell_type": "markdown",
   "metadata": {},
   "source": [
    "### Preferential Attachment: \n",
    "La probabilidad de que dos nodos se conecten es proporcional al producto de sus grados."
   ]
  },
  {
   "cell_type": "code",
   "execution_count": null,
   "metadata": {},
   "outputs": [],
   "source": [
    "print(\"\\nTop 10 predicciones de enlaces más probables basadas en Preferential Attachment:\")\n",
    "for u, v, p in top_n_predictions(preferential_attachment):\n",
    "    print(f\"{u} - {v}: {p}\")"
   ]
  }
 ],
 "metadata": {
  "kernelspec": {
   "display_name": "Python 3",
   "language": "python",
   "name": "python3"
  },
  "language_info": {
   "codemirror_mode": {
    "name": "ipython",
    "version": 3
   },
   "file_extension": ".py",
   "mimetype": "text/x-python",
   "name": "python",
   "nbconvert_exporter": "python",
   "pygments_lexer": "ipython3",
   "version": "3.12.0"
  }
 },
 "nbformat": 4,
 "nbformat_minor": 2
}
